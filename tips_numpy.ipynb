{
 "cells": [
  {
   "cell_type": "code",
   "execution_count": 1,
   "metadata": {
    "collapsed": true
   },
   "outputs": [],
   "source": [
    "import numpy as np"
   ]
  },
  {
   "cell_type": "code",
   "execution_count": 20,
   "metadata": {
    "collapsed": false
   },
   "outputs": [
    {
     "name": "stdout",
     "output_type": "stream",
     "text": [
      "[ 0.00257808 -0.75457726  0.01877864  0.06291308  0.5422669 ]\n"
     ]
    }
   ],
   "source": [
    "#rank 1 array. randn function gives random floats sampled from a univariate “normal” (Gaussian) distribution of \n",
    "#mean 0 and variance 1\n",
    "a = np.random.randn(5)\n",
    "print(a)"
   ]
  },
  {
   "cell_type": "code",
   "execution_count": 21,
   "metadata": {
    "collapsed": false
   },
   "outputs": [
    {
     "name": "stdout",
     "output_type": "stream",
     "text": [
      "(5,)\n"
     ]
    }
   ],
   "source": [
    "print(a.shape)"
   ]
  },
  {
   "cell_type": "code",
   "execution_count": 60,
   "metadata": {
    "collapsed": false
   },
   "outputs": [
    {
     "name": "stdout",
     "output_type": "stream",
     "text": [
      "[[ 0.00257808]\n",
      " [-0.75457726]\n",
      " [ 0.01877864]\n",
      " [ 0.06291308]\n",
      " [ 0.5422669 ]]\n",
      "(5, 1)\n"
     ]
    }
   ],
   "source": [
    "a1 = a.reshape(5, 1)\n",
    "print(a1)\n",
    "print(a1.shape)"
   ]
  },
  {
   "cell_type": "code",
   "execution_count": 61,
   "metadata": {
    "collapsed": false
   },
   "outputs": [
    {
     "name": "stdout",
     "output_type": "stream",
     "text": [
      "[[ 0.00257808 -0.75457726  0.01877864  0.06291308  0.5422669 ]]\n",
      "(1, 5)\n"
     ]
    }
   ],
   "source": [
    "a2 = a.reshape(1,5)\n",
    "print(a2)\n",
    "print(a2.shape)"
   ]
  },
  {
   "cell_type": "code",
   "execution_count": 63,
   "metadata": {
    "collapsed": false
   },
   "outputs": [
    {
     "name": "stdout",
     "output_type": "stream",
     "text": [
      "[[ 0.00257808]\n",
      " [-0.75457726]\n",
      " [ 0.01877864]\n",
      " [ 0.06291308]\n",
      " [ 0.5422669 ]]\n"
     ]
    }
   ],
   "source": [
    "a3 = a2.reshape(5, 1)\n",
    "print(a3)"
   ]
  },
  {
   "cell_type": "code",
   "execution_count": 22,
   "metadata": {
    "collapsed": false
   },
   "outputs": [
    {
     "name": "stdout",
     "output_type": "stream",
     "text": [
      "[ 0.00257808 -0.75457726  0.01877864  0.06291308  0.5422669 ]\n",
      "(5,)\n"
     ]
    }
   ],
   "source": [
    "print(a.T)\n",
    "print(a.T.shape)"
   ]
  },
  {
   "cell_type": "code",
   "execution_count": 23,
   "metadata": {
    "collapsed": false
   },
   "outputs": [
    {
     "name": "stdout",
     "output_type": "stream",
     "text": [
      "0.867757575114\n",
      "()\n"
     ]
    }
   ],
   "source": [
    "print(np.dot(a, a.T))\n",
    "print(np.dot(a, a.T).shape)"
   ]
  },
  {
   "cell_type": "code",
   "execution_count": 24,
   "metadata": {
    "collapsed": false
   },
   "outputs": [
    {
     "name": "stdout",
     "output_type": "stream",
     "text": [
      "[7 7 7 6 1 9 7 0 2 4]\n",
      "(10,)\n"
     ]
    }
   ],
   "source": [
    "b = np.random.randint(0, 10, size=10)\n",
    "print(b)\n",
    "print(b.shape)"
   ]
  },
  {
   "cell_type": "code",
   "execution_count": 25,
   "metadata": {
    "collapsed": false
   },
   "outputs": [
    {
     "name": "stdout",
     "output_type": "stream",
     "text": [
      "[[471 203 346 461 470 210]\n",
      " [324 300 145 375 492 462]\n",
      " [123 250 231 281 477 272]\n",
      " [172 307 384 229 129 159]\n",
      " [185 387 343 257 202 349]]\n",
      "(5, 6)\n"
     ]
    }
   ],
   "source": [
    "c = np.random.randint(120, 500, size=(5,6))\n",
    "print(c)\n",
    "print(c.shape)"
   ]
  },
  {
   "cell_type": "code",
   "execution_count": 29,
   "metadata": {
    "collapsed": false
   },
   "outputs": [
    {
     "name": "stdout",
     "output_type": "stream",
     "text": [
      "[[-1.30526785  0.17454898 -0.2208334 ]\n",
      " [-0.63459781  1.90580209 -1.12425855]\n",
      " [ 0.25433992 -1.4154845   0.89322826]\n",
      " [-0.53029864  0.83476497  1.67721367]\n",
      " [ 0.9291783   0.2683618   1.17283559]]\n",
      "(5, 3)\n"
     ]
    }
   ],
   "source": [
    "d = np.random.randn(5, 3)\n",
    "print(d)\n",
    "print(d.shape)"
   ]
  },
  {
   "cell_type": "code",
   "execution_count": 30,
   "metadata": {
    "collapsed": false
   },
   "outputs": [
    {
     "name": "stdout",
     "output_type": "stream",
     "text": [
      "[[-1.30526785 -0.63459781  0.25433992 -0.53029864  0.9291783 ]\n",
      " [ 0.17454898  1.90580209 -1.4154845   0.83476497  0.2683618 ]\n",
      " [-0.2208334  -1.12425855  0.89322826  1.67721367  1.17283559]]\n",
      "(3, 5)\n"
     ]
    }
   ],
   "source": [
    "e = d.T\n",
    "print(e)\n",
    "print(e.shape)"
   ]
  },
  {
   "cell_type": "code",
   "execution_count": 31,
   "metadata": {
    "collapsed": false
   },
   "outputs": [
    {
     "ename": "ValueError",
     "evalue": "operands could not be broadcast together with shapes (5,3) (3,5) ",
     "output_type": "error",
     "traceback": [
      "\u001b[0;31m---------------------------------------------------------------------------\u001b[0m",
      "\u001b[0;31mValueError\u001b[0m                                Traceback (most recent call last)",
      "\u001b[0;32m<ipython-input-31-95971d2c8846>\u001b[0m in \u001b[0;36m<module>\u001b[0;34m()\u001b[0m\n\u001b[0;32m----> 1\u001b[0;31m \u001b[0mf\u001b[0m \u001b[0;34m=\u001b[0m \u001b[0md\u001b[0m\u001b[0;34m*\u001b[0m\u001b[0me\u001b[0m\u001b[0;34m\u001b[0m\u001b[0m\n\u001b[0m\u001b[1;32m      2\u001b[0m \u001b[0mprint\u001b[0m\u001b[0;34m(\u001b[0m\u001b[0mf\u001b[0m\u001b[0;34m)\u001b[0m\u001b[0;34m\u001b[0m\u001b[0m\n\u001b[1;32m      3\u001b[0m \u001b[0mprint\u001b[0m\u001b[0;34m(\u001b[0m\u001b[0mf\u001b[0m\u001b[0;34m.\u001b[0m\u001b[0mshape\u001b[0m\u001b[0;34m)\u001b[0m\u001b[0;34m\u001b[0m\u001b[0m\n",
      "\u001b[0;31mValueError\u001b[0m: operands could not be broadcast together with shapes (5,3) (3,5) "
     ]
    }
   ],
   "source": [
    "f = d*e\n",
    "print(f)\n",
    "print(f.shape)"
   ]
  },
  {
   "cell_type": "code",
   "execution_count": 34,
   "metadata": {
    "collapsed": false
   },
   "outputs": [
    {
     "name": "stdout",
     "output_type": "stream",
     "text": [
      "[[ 1.7829589   1.40924976 -0.77630773  0.46750435 -1.42498555]\n",
      " [ 1.40924976  5.29875326 -3.86325638  0.04180138 -1.39678047]\n",
      " [-0.77630773 -3.86325638  2.86614189  0.18166164  0.90407506]\n",
      " [ 0.46750435  0.04180138  0.18166164  3.79109488  1.69837292]\n",
      " [-1.42498555 -1.39678047  0.90407506  1.69837292  2.31093369]]\n",
      "(5, 5)\n"
     ]
    }
   ],
   "source": [
    "f1 = np.dot(d, e)\n",
    "print(f1)\n",
    "print(f1.shape)"
   ]
  },
  {
   "cell_type": "code",
   "execution_count": 32,
   "metadata": {
    "collapsed": false
   },
   "outputs": [
    {
     "name": "stdout",
     "output_type": "stream",
     "text": [
      "[[-0.9792939 ]\n",
      " [-0.83016576]\n",
      " [-1.40022004]\n",
      " [ 0.17898207]\n",
      " [ 0.78749355]]\n",
      "(5, 1)\n"
     ]
    }
   ],
   "source": [
    "g = np.random.randn(5,1)\n",
    "print(g)\n",
    "print(g.shape)"
   ]
  },
  {
   "cell_type": "code",
   "execution_count": 33,
   "metadata": {
    "collapsed": false
   },
   "outputs": [
    {
     "name": "stdout",
     "output_type": "stream",
     "text": [
      "[[-0.9792939  -0.83016576 -1.40022004  0.17898207  0.78749355]]\n",
      "(1, 5)\n"
     ]
    }
   ],
   "source": [
    "print(g.T)\n",
    "print(g.T.shape)"
   ]
  },
  {
   "cell_type": "code",
   "execution_count": 35,
   "metadata": {
    "collapsed": false
   },
   "outputs": [
    {
     "name": "stdout",
     "output_type": "stream",
     "text": [
      "[[ 0.95901655  0.81297627  1.37122695 -0.17527605 -0.77118763]\n",
      " [ 0.81297627  0.6891752   1.16241474 -0.14858479 -0.65375018]\n",
      " [ 1.37122695  1.16241474  1.96061616 -0.25061428 -1.10266424]\n",
      " [-0.17527605 -0.14858479 -0.25061428  0.03203458  0.14094722]\n",
      " [-0.77118763 -0.65375018 -1.10266424  0.14094722  0.62014608]]\n",
      "(5, 5)\n"
     ]
    }
   ],
   "source": [
    "#brodcast multiplication\n",
    "h = g*g.T\n",
    "print(h)\n",
    "print(h.shape)"
   ]
  },
  {
   "cell_type": "code",
   "execution_count": 36,
   "metadata": {
    "collapsed": false
   },
   "outputs": [
    {
     "name": "stdout",
     "output_type": "stream",
     "text": [
      "[[-1.9585878  -1.80945967 -2.37951394 -0.80031183 -0.19180036]\n",
      " [-1.80945967 -1.66033153 -2.2303858  -0.65118369 -0.04267222]\n",
      " [-2.37951394 -2.2303858  -2.80044008 -1.22123797 -0.61272649]\n",
      " [-0.80031183 -0.65118369 -1.22123797  0.35796414  0.96647561]\n",
      " [-0.19180036 -0.04267222 -0.61272649  0.96647561  1.57498709]]\n",
      "(5, 5)\n"
     ]
    }
   ],
   "source": [
    "#brodcast addition\n",
    "h1 = g + g.T\n",
    "print(h1)\n",
    "print(h1.shape)"
   ]
  },
  {
   "cell_type": "code",
   "execution_count": 37,
   "metadata": {
    "collapsed": false
   },
   "outputs": [
    {
     "name": "stdout",
     "output_type": "stream",
     "text": [
      "[[ 0.         -0.14912814  0.42092614 -1.15827597 -1.76678745]\n",
      " [ 0.14912814  0.          0.57005428 -1.00914783 -1.61765931]\n",
      " [-0.42092614 -0.57005428  0.         -1.57920211 -2.18771359]\n",
      " [ 1.15827597  1.00914783  1.57920211  0.         -0.60851148]\n",
      " [ 1.76678745  1.61765931  2.18771359  0.60851148  0.        ]]\n",
      "(5, 5)\n"
     ]
    }
   ],
   "source": [
    "#brodcast subraction\n",
    "h2 = g - g.T\n",
    "print(h2)\n",
    "print(h2.shape)"
   ]
  },
  {
   "cell_type": "code",
   "execution_count": 38,
   "metadata": {
    "collapsed": false
   },
   "outputs": [
    {
     "name": "stdout",
     "output_type": "stream",
     "text": [
      "[[ 1.          1.17963658  0.69938572 -5.47146374 -1.243558  ]\n",
      " [ 0.84771871  1.          0.59288236 -4.63826219 -1.05418739]\n",
      " [ 1.42982616  1.68667524  1.         -7.823242   -1.77807177]\n",
      " [-0.18276645 -0.21559799 -0.12782424  1.          0.22728068]\n",
      " [-0.80414423 -0.94859795 -0.562407    4.39984603  1.        ]]\n",
      "(5, 5)\n"
     ]
    }
   ],
   "source": [
    "#brodcast division\n",
    "h3 = g / g.T\n",
    "print(h3)\n",
    "print(h3.shape)"
   ]
  },
  {
   "cell_type": "code",
   "execution_count": 45,
   "metadata": {
    "collapsed": false
   },
   "outputs": [
    {
     "name": "stdout",
     "output_type": "stream",
     "text": [
      "[[ 1.+0.j  2.+0.j]\n",
      " [ 0.+0.j  0.+0.j]\n",
      " [ 1.+1.j  3.+0.j]]\n",
      "(3, 2)\n"
     ]
    }
   ],
   "source": [
    "x = np.array([[1,2.0],[0,0],(1+1j,3.)])\n",
    "print(x)\n",
    "print(x.shape)"
   ]
  },
  {
   "cell_type": "code",
   "execution_count": 48,
   "metadata": {
    "collapsed": false
   },
   "outputs": [
    {
     "name": "stdout",
     "output_type": "stream",
     "text": [
      "[[2 3]\n",
      " [4 5]\n",
      " [6 7]]\n",
      "(3, 2)\n"
     ]
    }
   ],
   "source": [
    "arr1 = np.array([[2,3], [4,5], [6,7]])\n",
    "print(arr1)\n",
    "print(arr1.shape)"
   ]
  },
  {
   "cell_type": "code",
   "execution_count": 52,
   "metadata": {
    "collapsed": false
   },
   "outputs": [
    {
     "name": "stdout",
     "output_type": "stream",
     "text": [
      "[[2 4 6]\n",
      " [3 5 7]]\n"
     ]
    }
   ],
   "source": [
    "print(arr1.T)"
   ]
  },
  {
   "cell_type": "code",
   "execution_count": 51,
   "metadata": {
    "collapsed": false
   },
   "outputs": [
    {
     "name": "stdout",
     "output_type": "stream",
     "text": [
      "[[13 23 33]\n",
      " [23 41 59]\n",
      " [33 59 85]]\n"
     ]
    }
   ],
   "source": [
    "print(np.dot(arr1, arr1.T))"
   ]
  },
  {
   "cell_type": "code",
   "execution_count": 56,
   "metadata": {
    "collapsed": false
   },
   "outputs": [
    {
     "name": "stdout",
     "output_type": "stream",
     "text": [
      "[[3 4 5 6 7]]\n",
      "(1, 5)\n"
     ]
    }
   ],
   "source": [
    "# row vector\n",
    "arr2 = np.array([[3, 4, 5, 6 ,7]])\n",
    "print(arr2)\n",
    "print(arr2.shape)"
   ]
  },
  {
   "cell_type": "code",
   "execution_count": 54,
   "metadata": {
    "collapsed": false
   },
   "outputs": [
    {
     "name": "stdout",
     "output_type": "stream",
     "text": [
      "[[3]\n",
      " [4]\n",
      " [5]\n",
      " [6]\n",
      " [7]]\n"
     ]
    }
   ],
   "source": [
    "print(arr2.T)"
   ]
  },
  {
   "cell_type": "code",
   "execution_count": 57,
   "metadata": {
    "collapsed": false
   },
   "outputs": [
    {
     "name": "stdout",
     "output_type": "stream",
     "text": [
      "[[ 9 12 15 18 21]\n",
      " [12 16 20 24 28]\n",
      " [15 20 25 30 35]\n",
      " [18 24 30 36 42]\n",
      " [21 28 35 42 49]]\n"
     ]
    }
   ],
   "source": [
    "#broadcasting elementwise multiplication\n",
    "arr3 = arr2 * arr2.T\n",
    "print(arr3)"
   ]
  },
  {
   "cell_type": "code",
   "execution_count": 58,
   "metadata": {
    "collapsed": false
   },
   "outputs": [
    {
     "name": "stdout",
     "output_type": "stream",
     "text": [
      "[[ 6  8 10 12 14]]\n"
     ]
    }
   ],
   "source": [
    "arr4 = arr2 * 2\n",
    "print(arr4)"
   ]
  },
  {
   "cell_type": "code",
   "execution_count": null,
   "metadata": {
    "collapsed": true
   },
   "outputs": [],
   "source": []
  }
 ],
 "metadata": {
  "kernelspec": {
   "display_name": "Python 3",
   "language": "python",
   "name": "python3"
  },
  "language_info": {
   "codemirror_mode": {
    "name": "ipython",
    "version": 3
   },
   "file_extension": ".py",
   "mimetype": "text/x-python",
   "name": "python",
   "nbconvert_exporter": "python",
   "pygments_lexer": "ipython3",
   "version": "3.6.0"
  }
 },
 "nbformat": 4,
 "nbformat_minor": 2
}
